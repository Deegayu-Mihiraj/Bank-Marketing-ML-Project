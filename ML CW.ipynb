{
  "nbformat": 4,
  "nbformat_minor": 0,
  "metadata": {
    "colab": {
      "provenance": [],
      "include_colab_link": true
    },
    "kernelspec": {
      "name": "python3",
      "display_name": "Python 3"
    },
    "language_info": {
      "name": "python"
    }
  },
  "cells": [
    {
      "cell_type": "markdown",
      "metadata": {
        "id": "view-in-github",
        "colab_type": "text"
      },
      "source": [
        "<a href=\"https://colab.research.google.com/github/Deegayu-Mihiraj/Bank-Marketing-ML-Project/blob/main/ML%20CW.ipynb\" target=\"_parent\"><img src=\"https://colab.research.google.com/assets/colab-badge.svg\" alt=\"Open In Colab\"/></a>"
      ]
    },
    {
      "cell_type": "code",
      "execution_count": 201,
      "metadata": {
        "id": "e1DisSbjXLG7"
      },
      "outputs": [],
      "source": [
        "import pandas as pd\n",
        "import numpy as np\n",
        "from sklearn.preprocessing import LabelEncoder, StandardScaler\n",
        "from sklearn.model_selection import train_test_split\n",
        "from tensorflow.keras.models import Sequential\n",
        "from tensorflow.keras.layers import Dense, Dropout, Input\n",
        "from tensorflow.keras.callbacks import EarlyStopping, ReduceLROnPlateau\n",
        "from sklearn.ensemble import RandomForestClassifier\n",
        "from sklearn.metrics import precision_score, recall_score, f1_score, roc_auc_score, accuracy_score, classification_report\n",
        "import matplotlib.pyplot as plt\n",
        "import joblib"
      ]
    },
    {
      "cell_type": "markdown",
      "source": [
        "Mount Google Drive and import dataset"
      ],
      "metadata": {
        "id": "XRY4cq_DXwv0"
      }
    },
    {
      "cell_type": "code",
      "source": [
        "from google.colab import drive\n",
        "drive.mount('/content/drive')"
      ],
      "metadata": {
        "colab": {
          "base_uri": "https://localhost:8080/"
        },
        "id": "uvHO_j6xXwGY",
        "outputId": "2307a1d7-97fd-48a5-f8ad-7a82b29d5e5a"
      },
      "execution_count": 202,
      "outputs": [
        {
          "output_type": "stream",
          "name": "stdout",
          "text": [
            "Drive already mounted at /content/drive; to attempt to forcibly remount, call drive.mount(\"/content/drive\", force_remount=True).\n"
          ]
        }
      ]
    },
    {
      "cell_type": "code",
      "source": [
        "bankdataset = pd.read_csv('/content/drive/MyDrive/Machine Learning/CW/bank-full.csv', sep=';')"
      ],
      "metadata": {
        "collapsed": true,
        "id": "GdN3oOFbX6lk"
      },
      "execution_count": 203,
      "outputs": []
    },
    {
      "cell_type": "markdown",
      "source": [
        "***Data Preprocessing***"
      ],
      "metadata": {
        "id": "TkT5bJrNYJCY"
      }
    },
    {
      "cell_type": "code",
      "source": [
        "# Drop 'duration' column for realistic predictive modeling\n",
        "bankdataset.drop(columns=['duration'], inplace=True)"
      ],
      "metadata": {
        "id": "noafnmfS_Toh"
      },
      "execution_count": 204,
      "outputs": []
    },
    {
      "cell_type": "code",
      "source": [
        "bankdataset.isin(['unknown']).sum()\n"
      ],
      "metadata": {
        "colab": {
          "base_uri": "https://localhost:8080/",
          "height": 585
        },
        "collapsed": true,
        "id": "OI6aBQppeZsS",
        "outputId": "5932839c-774d-4a10-8acd-75f280368b8c"
      },
      "execution_count": 205,
      "outputs": [
        {
          "output_type": "execute_result",
          "data": {
            "text/plain": [
              "age              0\n",
              "job            288\n",
              "marital          0\n",
              "education     1857\n",
              "default          0\n",
              "balance          0\n",
              "housing          0\n",
              "loan             0\n",
              "contact      13020\n",
              "day              0\n",
              "month            0\n",
              "campaign         0\n",
              "pdays            0\n",
              "previous         0\n",
              "poutcome     36959\n",
              "y                0\n",
              "dtype: int64"
            ],
            "text/html": [
              "<div>\n",
              "<style scoped>\n",
              "    .dataframe tbody tr th:only-of-type {\n",
              "        vertical-align: middle;\n",
              "    }\n",
              "\n",
              "    .dataframe tbody tr th {\n",
              "        vertical-align: top;\n",
              "    }\n",
              "\n",
              "    .dataframe thead th {\n",
              "        text-align: right;\n",
              "    }\n",
              "</style>\n",
              "<table border=\"1\" class=\"dataframe\">\n",
              "  <thead>\n",
              "    <tr style=\"text-align: right;\">\n",
              "      <th></th>\n",
              "      <th>0</th>\n",
              "    </tr>\n",
              "  </thead>\n",
              "  <tbody>\n",
              "    <tr>\n",
              "      <th>age</th>\n",
              "      <td>0</td>\n",
              "    </tr>\n",
              "    <tr>\n",
              "      <th>job</th>\n",
              "      <td>288</td>\n",
              "    </tr>\n",
              "    <tr>\n",
              "      <th>marital</th>\n",
              "      <td>0</td>\n",
              "    </tr>\n",
              "    <tr>\n",
              "      <th>education</th>\n",
              "      <td>1857</td>\n",
              "    </tr>\n",
              "    <tr>\n",
              "      <th>default</th>\n",
              "      <td>0</td>\n",
              "    </tr>\n",
              "    <tr>\n",
              "      <th>balance</th>\n",
              "      <td>0</td>\n",
              "    </tr>\n",
              "    <tr>\n",
              "      <th>housing</th>\n",
              "      <td>0</td>\n",
              "    </tr>\n",
              "    <tr>\n",
              "      <th>loan</th>\n",
              "      <td>0</td>\n",
              "    </tr>\n",
              "    <tr>\n",
              "      <th>contact</th>\n",
              "      <td>13020</td>\n",
              "    </tr>\n",
              "    <tr>\n",
              "      <th>day</th>\n",
              "      <td>0</td>\n",
              "    </tr>\n",
              "    <tr>\n",
              "      <th>month</th>\n",
              "      <td>0</td>\n",
              "    </tr>\n",
              "    <tr>\n",
              "      <th>campaign</th>\n",
              "      <td>0</td>\n",
              "    </tr>\n",
              "    <tr>\n",
              "      <th>pdays</th>\n",
              "      <td>0</td>\n",
              "    </tr>\n",
              "    <tr>\n",
              "      <th>previous</th>\n",
              "      <td>0</td>\n",
              "    </tr>\n",
              "    <tr>\n",
              "      <th>poutcome</th>\n",
              "      <td>36959</td>\n",
              "    </tr>\n",
              "    <tr>\n",
              "      <th>y</th>\n",
              "      <td>0</td>\n",
              "    </tr>\n",
              "  </tbody>\n",
              "</table>\n",
              "</div><br><label><b>dtype:</b> int64</label>"
            ]
          },
          "metadata": {},
          "execution_count": 205
        }
      ]
    },
    {
      "cell_type": "code",
      "source": [
        "# List of columns where \"unknown\" should be replaced with the mode\n",
        "selected_columns = ['job', 'education']\n",
        "\n",
        "# Replace \"unknown\" with the mode for the selected columns\n",
        "for col in selected_columns:\n",
        "    mode = bankdataset[col].mode()[0]\n",
        "    bankdataset[col] = bankdataset[col].replace('unknown', mode)\n"
      ],
      "metadata": {
        "id": "KqGUz7kCZscU"
      },
      "execution_count": 206,
      "outputs": []
    },
    {
      "cell_type": "code",
      "source": [
        "#numeric and categoric columns\n",
        "integer_columns = bankdataset.select_dtypes(include=['int64'])\n",
        "string_columns = bankdataset.select_dtypes(include=['object'])"
      ],
      "metadata": {
        "collapsed": true,
        "id": "uAxrFgeaZJY0"
      },
      "execution_count": 207,
      "outputs": []
    },
    {
      "cell_type": "code",
      "source": [
        "# Remove punctuation\n",
        "import string\n",
        "\n",
        "string_columns = bankdataset.select_dtypes(include=['object'])\n",
        "bankdataset[string_columns.columns] = string_columns.apply(\n",
        "    lambda col: col.str.replace(f\"[{string.punctuation}]\", \"\", regex=True)\n",
        ")\n"
      ],
      "metadata": {
        "id": "I9cKTlMqdaMG"
      },
      "execution_count": 208,
      "outputs": []
    },
    {
      "cell_type": "code",
      "source": [
        "# Encoding categorical variables\n",
        "label_encoders = {}\n",
        "for col in string_columns.columns:\n",
        "    le = LabelEncoder()\n",
        "    bankdataset[col] = le.fit_transform(bankdataset[col])\n",
        "    label_encoders[col] = le\n",
        "\n",
        "# Encoding target variable 'y'\n",
        "if 'y' not in label_encoders:  # Check if 'y' is already in label_encoders\n",
        "    le_y = LabelEncoder()\n",
        "    bankdataset['y'] = le_y.fit_transform(bankdataset['y'])\n",
        "    label_encoders['y'] = le_y"
      ],
      "metadata": {
        "id": "N-Wp0TAGygcd"
      },
      "execution_count": 209,
      "outputs": []
    },
    {
      "cell_type": "code",
      "source": [
        "# Scaling numeric features\n",
        "scaler = StandardScaler()\n",
        "integer_columns_scaled = scaler.fit_transform(bankdataset[integer_columns.columns])\n",
        "integer_columns_scaled_df = pd.DataFrame(integer_columns_scaled, columns=integer_columns.columns)\n",
        "\n",
        "# Combine scaled numeric features with encoded categorical features\n",
        "bankdataset_preprocessed = pd.concat([integer_columns_scaled_df, bankdataset[string_columns.columns]], axis=1)"
      ],
      "metadata": {
        "id": "PZkQqWiM7ROH"
      },
      "execution_count": 210,
      "outputs": []
    },
    {
      "cell_type": "code",
      "source": [
        "# Splitting the dataset into train and test sets\n",
        "X = bankdataset_preprocessed.drop(columns=['y'])\n",
        "y = bankdataset_preprocessed['y']\n",
        "X_train, X_test, y_train, y_test = train_test_split(X, y, test_size=0.2, random_state=42)"
      ],
      "metadata": {
        "id": "Z6KPsszN7TU0"
      },
      "execution_count": 211,
      "outputs": []
    },
    {
      "cell_type": "markdown",
      "source": [
        "Random Forest"
      ],
      "metadata": {
        "id": "GS0PmOPdubkZ"
      }
    },
    {
      "cell_type": "code",
      "source": [
        "# Train Random Forest Classifier (max_depth to reduce overfitting)\n",
        "ranfor_model = RandomForestClassifier(random_state=54, max_depth=15)\n",
        "ranfor_model.fit(X_train, y_train)\n",
        "\n",
        "# Predictions and Evaluation\n",
        "y_pred_rf = ranfor_model.predict(X_test)\n",
        "print(\"Random Forest Classifier Evaluation\")\n",
        "print(classification_report(y_test, y_pred_rf))\n",
        "print(\"Accuracy:\", accuracy_score(y_test, y_pred_rf))\n",
        "\n",
        "# Random Forest AUC-ROC Evaluation\n",
        "y_pred_proba_rf = ranfor_model.predict_proba(X_test)[:, 1]  # Get probabilities for the positive class\n",
        "roc_auc_rf = roc_auc_score(y_test, y_pred_proba_rf)\n",
        "\n",
        "# Metrics\n",
        "accuracy_rf = accuracy_score(y_test, y_pred_rf)\n",
        "precision_rf = precision_score(y_test, y_pred_rf)\n",
        "recall_rf = recall_score(y_test, y_pred_rf)\n",
        "f1_rf = f1_score(y_test, y_pred_rf)\n",
        "auc_roc_rf = roc_auc_score(y_test, y_pred_proba_rf)\n",
        "\n",
        "# Print Metrics\n",
        "print(\"Precision:\", precision_rf)\n",
        "print(\"Recall:\", recall_rf)\n",
        "print(\"F1 Score:\", f1_rf)\n",
        "print(\"AUC-ROC:\", roc_auc_rf)\n"
      ],
      "metadata": {
        "colab": {
          "base_uri": "https://localhost:8080/"
        },
        "id": "flyScMgTNVIo",
        "outputId": "cf589a37-e673-47b8-8273-b7dda56fe730"
      },
      "execution_count": 212,
      "outputs": [
        {
          "output_type": "stream",
          "name": "stdout",
          "text": [
            "Random Forest Classifier Evaluation\n",
            "              precision    recall  f1-score   support\n",
            "\n",
            "           0       0.90      0.99      0.94      7952\n",
            "           1       0.70      0.20      0.31      1091\n",
            "\n",
            "    accuracy                           0.89      9043\n",
            "   macro avg       0.80      0.59      0.62      9043\n",
            "weighted avg       0.88      0.89      0.87      9043\n",
            "\n",
            "Accuracy: 0.8929558774742895\n",
            "Precision: 0.7016393442622951\n",
            "Recall: 0.19615032080659944\n",
            "F1 Score: 0.30659025787965616\n",
            "AUC-ROC: 0.7911363690852724\n"
          ]
        }
      ]
    },
    {
      "cell_type": "markdown",
      "source": [
        "Feedforward Neural Network"
      ],
      "metadata": {
        "id": "JeqoYEqPG4I-"
      }
    },
    {
      "cell_type": "code",
      "source": [
        "# Neural Network Model\n",
        "FF_NN_Model = Sequential([\n",
        "    Input(shape=(X_train.shape[1],)),\n",
        "    Dense(128, activation='relu', kernel_regularizer='l2'),  # 1 hidden layer\n",
        "    Dropout(0.3),  # Dropout  regularization\n",
        "    Dense(64, activation='relu', kernel_regularizer='l2'),  # 2 hidden layer\n",
        "    Dropout(0.3),\n",
        "    Dense(1, activation='sigmoid')  # OL for binary classification\n",
        "])\n",
        "\n",
        "# Compile the Model\n",
        "FF_NN_Model.compile(optimizer='adam', loss='binary_crossentropy',metrics=['accuracy'])\n",
        "\n",
        "# Early Stopping Callback\n",
        "early_stopping = EarlyStopping(monitor='val_loss', patience=5, restore_best_weights=True)\n",
        "reduce_lr = ReduceLROnPlateau(monitor='val_loss', factor=0.5, patience=3, min_lr=1e-5)\n",
        "\n",
        "# Train the Model\n",
        "history = FF_NN_Model.fit(\n",
        "    X_train, y_train,\n",
        "    epochs=50,\n",
        "    batch_size=32,\n",
        "    validation_data=(X_test, y_test),\n",
        "    callbacks=[early_stopping, reduce_lr]\n",
        ")\n",
        "\n",
        "# Evaluate the Model\n",
        "FF_NN_loss, FF_NN_accuracy = FF_NN_Model.evaluate(X_test, y_test)\n",
        "print(\"Neural Network Accuracy on Test Data:\", FF_NN_accuracy)\n",
        "print(\"Neural Network Loss on Test Data:\", FF_NN_loss)\n",
        "\n",
        "# Predictions and AUC-ROC Evaluation\n",
        "y_pred_proba_nn = FF_NN_Model.predict(X_test).ravel()  # Predicted probabilities\n",
        "roc_auc_nn = roc_auc_score(y_test, y_pred_proba_nn)\n",
        "\n",
        "# Metrics\n",
        "accuracy_rf = accuracy_score(y_test, y_pred_rf)\n",
        "precision_rf = precision_score(y_test, y_pred_rf)\n",
        "recall_rf = recall_score(y_test, y_pred_rf)\n",
        "f1_rf = f1_score(y_test, y_pred_rf)\n",
        "auc_roc_rf = roc_auc_score(y_test, y_pred_proba_rf)\n",
        "\n",
        "# Print Metrics\n",
        "print(f\"Precision:\",precision_rf)\n",
        "print(f\"Recall:\", recall_rf)\n",
        "print(f\"F1 Score\", f1_rf)\n",
        "print(f\"AUC-ROC:\", auc_roc_rf)\n",
        "\n",
        "# Loss\n",
        "plt.figure(figsize=(12, 5))\n",
        "plt.plot(history.history['loss'], label='Training Loss')\n",
        "plt.plot(history.history['val_loss'], label='Validation Loss')\n",
        "plt.legend()\n",
        "plt.xlabel('Epochs')\n",
        "plt.ylabel('Loss')\n",
        "plt.title('Training vs Validation Loss')\n",
        "plt.show()\n",
        "\n",
        "# Accuracy\n",
        "plt.plot(history.history['accuracy'], label='Training Accuracy')\n",
        "plt.plot(history.history['val_accuracy'], label='Validation Accuracy')\n",
        "plt.legend()\n",
        "plt.xlabel('Epochs')\n",
        "plt.ylabel('Accuracy')\n",
        "plt.title('Training and Validation Accuracy')\n",
        "plt.show()\n"
      ],
      "metadata": {
        "colab": {
          "base_uri": "https://localhost:8080/",
          "height": 1000
        },
        "id": "nlTBNtytNfI8",
        "outputId": "d930975f-1f89-4313-fb1a-2aa6be7668a3"
      },
      "execution_count": 213,
      "outputs": [
        {
          "output_type": "stream",
          "name": "stdout",
          "text": [
            "Epoch 1/50\n",
            "\u001b[1m1131/1131\u001b[0m \u001b[32m━━━━━━━━━━━━━━━━━━━━\u001b[0m\u001b[37m\u001b[0m \u001b[1m7s\u001b[0m 4ms/step - accuracy: 0.8873 - loss: 0.6842 - val_accuracy: 0.8794 - val_loss: 0.3684 - learning_rate: 0.0010\n",
            "Epoch 2/50\n",
            "\u001b[1m1131/1131\u001b[0m \u001b[32m━━━━━━━━━━━━━━━━━━━━\u001b[0m\u001b[37m\u001b[0m \u001b[1m3s\u001b[0m 3ms/step - accuracy: 0.8855 - loss: 0.3497 - val_accuracy: 0.8794 - val_loss: 0.3506 - learning_rate: 0.0010\n",
            "Epoch 3/50\n",
            "\u001b[1m1131/1131\u001b[0m \u001b[32m━━━━━━━━━━━━━━━━━━━━\u001b[0m\u001b[37m\u001b[0m \u001b[1m3s\u001b[0m 3ms/step - accuracy: 0.8798 - loss: 0.3511 - val_accuracy: 0.8794 - val_loss: 0.3496 - learning_rate: 0.0010\n",
            "Epoch 4/50\n",
            "\u001b[1m1131/1131\u001b[0m \u001b[32m━━━━━━━━━━━━━━━━━━━━\u001b[0m\u001b[37m\u001b[0m \u001b[1m4s\u001b[0m 3ms/step - accuracy: 0.8866 - loss: 0.3379 - val_accuracy: 0.8794 - val_loss: 0.3528 - learning_rate: 0.0010\n",
            "Epoch 5/50\n",
            "\u001b[1m1131/1131\u001b[0m \u001b[32m━━━━━━━━━━━━━━━━━━━━\u001b[0m\u001b[37m\u001b[0m \u001b[1m4s\u001b[0m 4ms/step - accuracy: 0.8857 - loss: 0.3381 - val_accuracy: 0.8794 - val_loss: 0.3478 - learning_rate: 0.0010\n",
            "Epoch 6/50\n",
            "\u001b[1m1131/1131\u001b[0m \u001b[32m━━━━━━━━━━━━━━━━━━━━\u001b[0m\u001b[37m\u001b[0m \u001b[1m4s\u001b[0m 3ms/step - accuracy: 0.8860 - loss: 0.3352 - val_accuracy: 0.8794 - val_loss: 0.3454 - learning_rate: 0.0010\n",
            "Epoch 7/50\n",
            "\u001b[1m1131/1131\u001b[0m \u001b[32m━━━━━━━━━━━━━━━━━━━━\u001b[0m\u001b[37m\u001b[0m \u001b[1m3s\u001b[0m 3ms/step - accuracy: 0.8860 - loss: 0.3372 - val_accuracy: 0.8794 - val_loss: 0.3450 - learning_rate: 0.0010\n",
            "Epoch 8/50\n",
            "\u001b[1m1131/1131\u001b[0m \u001b[32m━━━━━━━━━━━━━━━━━━━━\u001b[0m\u001b[37m\u001b[0m \u001b[1m7s\u001b[0m 5ms/step - accuracy: 0.8815 - loss: 0.3441 - val_accuracy: 0.8794 - val_loss: 0.3424 - learning_rate: 0.0010\n",
            "Epoch 9/50\n",
            "\u001b[1m1131/1131\u001b[0m \u001b[32m━━━━━━━━━━━━━━━━━━━━\u001b[0m\u001b[37m\u001b[0m \u001b[1m8s\u001b[0m 3ms/step - accuracy: 0.8847 - loss: 0.3362 - val_accuracy: 0.8794 - val_loss: 0.3434 - learning_rate: 0.0010\n",
            "Epoch 10/50\n",
            "\u001b[1m1131/1131\u001b[0m \u001b[32m━━━━━━━━━━━━━━━━━━━━\u001b[0m\u001b[37m\u001b[0m \u001b[1m7s\u001b[0m 4ms/step - accuracy: 0.8833 - loss: 0.3364 - val_accuracy: 0.8794 - val_loss: 0.3425 - learning_rate: 0.0010\n",
            "Epoch 11/50\n",
            "\u001b[1m1131/1131\u001b[0m \u001b[32m━━━━━━━━━━━━━━━━━━━━\u001b[0m\u001b[37m\u001b[0m \u001b[1m3s\u001b[0m 3ms/step - accuracy: 0.8848 - loss: 0.3373 - val_accuracy: 0.8794 - val_loss: 0.3464 - learning_rate: 0.0010\n",
            "Epoch 12/50\n",
            "\u001b[1m1131/1131\u001b[0m \u001b[32m━━━━━━━━━━━━━━━━━━━━\u001b[0m\u001b[37m\u001b[0m \u001b[1m3s\u001b[0m 3ms/step - accuracy: 0.8832 - loss: 0.3368 - val_accuracy: 0.8794 - val_loss: 0.3400 - learning_rate: 5.0000e-04\n",
            "Epoch 13/50\n",
            "\u001b[1m1131/1131\u001b[0m \u001b[32m━━━━━━━━━━━━━━━━━━━━\u001b[0m\u001b[37m\u001b[0m \u001b[1m6s\u001b[0m 4ms/step - accuracy: 0.8852 - loss: 0.3330 - val_accuracy: 0.8794 - val_loss: 0.3399 - learning_rate: 5.0000e-04\n",
            "Epoch 14/50\n",
            "\u001b[1m1131/1131\u001b[0m \u001b[32m━━━━━━━━━━━━━━━━━━━━\u001b[0m\u001b[37m\u001b[0m \u001b[1m4s\u001b[0m 4ms/step - accuracy: 0.8844 - loss: 0.3301 - val_accuracy: 0.8794 - val_loss: 0.3399 - learning_rate: 5.0000e-04\n",
            "Epoch 15/50\n",
            "\u001b[1m1131/1131\u001b[0m \u001b[32m━━━━━━━━━━━━━━━━━━━━\u001b[0m\u001b[37m\u001b[0m \u001b[1m5s\u001b[0m 3ms/step - accuracy: 0.8845 - loss: 0.3333 - val_accuracy: 0.8794 - val_loss: 0.3382 - learning_rate: 5.0000e-04\n",
            "Epoch 16/50\n",
            "\u001b[1m1131/1131\u001b[0m \u001b[32m━━━━━━━━━━━━━━━━━━━━\u001b[0m\u001b[37m\u001b[0m \u001b[1m5s\u001b[0m 3ms/step - accuracy: 0.8851 - loss: 0.3313 - val_accuracy: 0.8794 - val_loss: 0.3378 - learning_rate: 5.0000e-04\n",
            "Epoch 17/50\n",
            "\u001b[1m1131/1131\u001b[0m \u001b[32m━━━━━━━━━━━━━━━━━━━━\u001b[0m\u001b[37m\u001b[0m \u001b[1m6s\u001b[0m 4ms/step - accuracy: 0.8830 - loss: 0.3360 - val_accuracy: 0.8794 - val_loss: 0.3438 - learning_rate: 5.0000e-04\n",
            "Epoch 18/50\n",
            "\u001b[1m1131/1131\u001b[0m \u001b[32m━━━━━━━━━━━━━━━━━━━━\u001b[0m\u001b[37m\u001b[0m \u001b[1m4s\u001b[0m 3ms/step - accuracy: 0.8828 - loss: 0.3343 - val_accuracy: 0.8794 - val_loss: 0.3388 - learning_rate: 5.0000e-04\n",
            "Epoch 19/50\n",
            "\u001b[1m1131/1131\u001b[0m \u001b[32m━━━━━━━━━━━━━━━━━━━━\u001b[0m\u001b[37m\u001b[0m \u001b[1m3s\u001b[0m 3ms/step - accuracy: 0.8840 - loss: 0.3322 - val_accuracy: 0.8794 - val_loss: 0.3362 - learning_rate: 5.0000e-04\n",
            "Epoch 20/50\n",
            "\u001b[1m1131/1131\u001b[0m \u001b[32m━━━━━━━━━━━━━━━━━━━━\u001b[0m\u001b[37m\u001b[0m \u001b[1m6s\u001b[0m 4ms/step - accuracy: 0.8853 - loss: 0.3263 - val_accuracy: 0.8794 - val_loss: 0.3378 - learning_rate: 5.0000e-04\n",
            "Epoch 21/50\n",
            "\u001b[1m1131/1131\u001b[0m \u001b[32m━━━━━━━━━━━━━━━━━━━━\u001b[0m\u001b[37m\u001b[0m \u001b[1m3s\u001b[0m 3ms/step - accuracy: 0.8825 - loss: 0.3351 - val_accuracy: 0.8794 - val_loss: 0.3369 - learning_rate: 5.0000e-04\n",
            "Epoch 22/50\n",
            "\u001b[1m1131/1131\u001b[0m \u001b[32m━━━━━━━━━━━━━━━━━━━━\u001b[0m\u001b[37m\u001b[0m \u001b[1m4s\u001b[0m 3ms/step - accuracy: 0.8856 - loss: 0.3278 - val_accuracy: 0.8794 - val_loss: 0.3367 - learning_rate: 5.0000e-04\n",
            "Epoch 23/50\n",
            "\u001b[1m1131/1131\u001b[0m \u001b[32m━━━━━━━━━━━━━━━━━━━━\u001b[0m\u001b[37m\u001b[0m \u001b[1m6s\u001b[0m 6ms/step - accuracy: 0.8839 - loss: 0.3300 - val_accuracy: 0.8794 - val_loss: 0.3363 - learning_rate: 2.5000e-04\n",
            "Epoch 24/50\n",
            "\u001b[1m1131/1131\u001b[0m \u001b[32m━━━━━━━━━━━━━━━━━━━━\u001b[0m\u001b[37m\u001b[0m \u001b[1m3s\u001b[0m 3ms/step - accuracy: 0.8808 - loss: 0.3358 - val_accuracy: 0.8794 - val_loss: 0.3372 - learning_rate: 2.5000e-04\n",
            "\u001b[1m283/283\u001b[0m \u001b[32m━━━━━━━━━━━━━━━━━━━━\u001b[0m\u001b[37m\u001b[0m \u001b[1m0s\u001b[0m 1ms/step - accuracy: 0.8770 - loss: 0.3451\n",
            "Neural Network Accuracy on Test Data: 0.8793541789054871\n",
            "Neural Network Loss on Test Data: 0.3362077474594116\n",
            "\u001b[1m283/283\u001b[0m \u001b[32m━━━━━━━━━━━━━━━━━━━━\u001b[0m\u001b[37m\u001b[0m \u001b[1m1s\u001b[0m 2ms/step\n",
            "Precision: 0.7016393442622951\n",
            "Recall: 0.19615032080659944\n",
            "F1 Score 0.30659025787965616\n",
            "AUC-ROC: 0.7911363690852724\n"
          ]
        },
        {
          "output_type": "display_data",
          "data": {
            "text/plain": [
              "<Figure size 1200x500 with 1 Axes>"
            ],
            "image/png": "[encoded data removed]"
          },
          "metadata": {}
        },
        {
          "output_type": "display_data",
          "data": {
            "text/plain": [
              "<Figure size 640x480 with 1 Axes>"
            ],
            "image/png": "[encoded data removed]"
          },
          "metadata": {}
        }
      ]
    },
    {
      "cell_type": "code",
      "source": [
        "# Get predictions\n",
        "y_pred_probabilities = FF_NN_Model.predict(X_test)\n",
        "\n",
        "# first 10 predictions\n",
        "print(\"Predicted probabilities for y:\")\n",
        "print(y_pred_probabilities[:10])"
      ],
      "metadata": {
        "colab": {
          "base_uri": "https://localhost:8080/"
        },
        "id": "w2o_pq8JWfWu",
        "outputId": "52372ca4-6317-406b-f67c-4f1cbd624910"
      },
      "execution_count": null,
      "outputs": [
        {
          "output_type": "stream",
          "name": "stdout",
          "text": [
            "\u001b[1m283/283\u001b[0m \u001b[32m━━━━━━━━━━━━━━━━━━━━\u001b[0m\u001b[37m\u001b[0m \u001b[1m1s\u001b[0m 2ms/step\n",
            "Predicted probabilities for y:\n",
            "[[0.0435775 ]\n",
            " [0.07287297]\n",
            " [0.13980033]\n",
            " [0.3000561 ]\n",
            " [0.11051162]\n",
            " [0.1375074 ]\n",
            " [0.14800848]\n",
            " [0.1256463 ]\n",
            " [0.08984493]\n",
            " [0.04474803]]\n"
          ]
        }
      ]
    },
    {
      "cell_type": "code",
      "source": [
        "# Save the Random Forest Model\n",
        "joblib.dump(ranfor_model, 'random_forest_model.pkl')\n",
        "print(\"Random Forest model saved\")\n",
        "\n",
        "# Save the Neural Network Model\n",
        "FF_NN_Model.save('neural_network_model.h5')\n",
        "print(\"Neural Network model saved\")\n",
        "\n",
        "# Summary Comparison of Models\n",
        "print(\"Summary Comparison:\")\n",
        "print(f\"Random Forest Accuracy: {accuracy_score(y_test, y_pred_rf)}\")\n",
        "print(f\"Neural Network Accuracy: {FF_NN_accuracy}\")"
      ],
      "metadata": {
        "id": "U8rv8a1By_oT",
        "colab": {
          "base_uri": "https://localhost:8080/"
        },
        "outputId": "d9495fa9-f776-4818-ff06-2261847389e1"
      },
      "execution_count": null,
      "outputs": [
        {
          "output_type": "stream",
          "name": "stderr",
          "text": [
            "WARNING:absl:You are saving your model as an HDF5 file via `model.save()` or `keras.saving.save_model(model)`. This file format is considered legacy. We recommend using instead the native Keras format, e.g. `model.save('my_model.keras')` or `keras.saving.save_model(model, 'my_model.keras')`. \n"
          ]
        },
        {
          "output_type": "stream",
          "name": "stdout",
          "text": [
            "Random Forest model saved\n",
            "Neural Network model saved\n",
            "Summary Comparison:\n",
            "Random Forest Accuracy: 0.8929558774742895\n",
            "Neural Network Accuracy: 0.8807917833328247\n"
          ]
        }
      ]
    }
  ]
}