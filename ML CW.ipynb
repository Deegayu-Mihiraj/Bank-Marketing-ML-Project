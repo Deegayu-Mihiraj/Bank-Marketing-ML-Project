{
  "nbformat": 4,
  "nbformat_minor": 0,
  "metadata": {
    "colab": {
      "provenance": [],
      "include_colab_link": true
    },
    "kernelspec": {
      "name": "python3",
      "display_name": "Python 3"
    },
    "language_info": {
      "name": "python"
    }
  },
  "cells": [
    {
      "cell_type": "markdown",
      "metadata": {
        "id": "view-in-github",
        "colab_type": "text"
      },
      "source": [
        "<a href=\"https://colab.research.google.com/github/Deegayu-Mihiraj/Bank-Marketing-ML-Project/blob/main/ML%20CW.ipynb\" target=\"_parent\"><img src=\"https://colab.research.google.com/assets/colab-badge.svg\" alt=\"Open In Colab\"/></a>"
      ]
    },
    {
      "cell_type": "code",
      "execution_count": 143,
      "metadata": {
        "id": "e1DisSbjXLG7"
      },
      "outputs": [],
      "source": [
        "import pandas as pd\n",
        "import numpy as np\n",
        "from sklearn.preprocessing import LabelEncoder, StandardScaler\n",
        "from sklearn.model_selection import train_test_split\n",
        "from tensorflow.keras.models import Sequential\n",
        "from tensorflow.keras.layers import Dense, Dropout, Input\n",
        "from tensorflow.keras.callbacks import EarlyStopping, ReduceLROnPlateau\n",
        "from sklearn.ensemble import RandomForestClassifier\n",
        "from sklearn.metrics import classification_report, accuracy_score\n",
        "import matplotlib.pyplot as plt\n",
        "import joblib"
      ]
    },
    {
      "cell_type": "markdown",
      "source": [
        "Mount Google Drive and import dataset"
      ],
      "metadata": {
        "id": "XRY4cq_DXwv0"
      }
    },
    {
      "cell_type": "code",
      "source": [
        "from google.colab import drive\n",
        "drive.mount('/content/drive')"
      ],
      "metadata": {
        "colab": {
          "base_uri": "https://localhost:8080/"
        },
        "id": "uvHO_j6xXwGY",
        "outputId": "e8fba2ac-7194-40a5-ba28-88aca7ba05a1"
      },
      "execution_count": 144,
      "outputs": [
        {
          "output_type": "stream",
          "name": "stdout",
          "text": [
            "Drive already mounted at /content/drive; to attempt to forcibly remount, call drive.mount(\"/content/drive\", force_remount=True).\n"
          ]
        }
      ]
    },
    {
      "cell_type": "code",
      "source": [
        "bankdataset = pd.read_csv('/content/drive/MyDrive/Machine Learning/CW/bank-full.csv', sep=';')"
      ],
      "metadata": {
        "collapsed": true,
        "id": "GdN3oOFbX6lk"
      },
      "execution_count": 145,
      "outputs": []
    },
    {
      "cell_type": "markdown",
      "source": [
        "***Data Preprocessing***"
      ],
      "metadata": {
        "id": "TkT5bJrNYJCY"
      }
    },
    {
      "cell_type": "code",
      "source": [
        "# Drop 'duration' column for realistic predictive modeling\n",
        "bankdataset.drop(columns=['duration'], inplace=True)"
      ],
      "metadata": {
        "id": "noafnmfS_Toh"
      },
      "execution_count": 146,
      "outputs": []
    },
    {
      "cell_type": "code",
      "source": [
        "bankdataset.shape"
      ],
      "metadata": {
        "colab": {
          "base_uri": "https://localhost:8080/"
        },
        "id": "ye2MIbF8ZAaH",
        "outputId": "a6c50145-c6c3-4f66-83f1-cb4e8128957f"
      },
      "execution_count": 147,
      "outputs": [
        {
          "output_type": "execute_result",
          "data": {
            "text/plain": [
              "(45211, 16)"
            ]
          },
          "metadata": {},
          "execution_count": 147
        }
      ]
    },
    {
      "cell_type": "code",
      "source": [
        "bankdataset.isin(['unknown']).sum()\n"
      ],
      "metadata": {
        "colab": {
          "base_uri": "https://localhost:8080/",
          "height": 585
        },
        "collapsed": true,
        "id": "OI6aBQppeZsS",
        "outputId": "1789bc85-6b10-4d4d-9980-56075b60556a"
      },
      "execution_count": 148,
      "outputs": [
        {
          "output_type": "execute_result",
          "data": {
            "text/plain": [
              "age              0\n",
              "job            288\n",
              "marital          0\n",
              "education     1857\n",
              "default          0\n",
              "balance          0\n",
              "housing          0\n",
              "loan             0\n",
              "contact      13020\n",
              "day              0\n",
              "month            0\n",
              "campaign         0\n",
              "pdays            0\n",
              "previous         0\n",
              "poutcome     36959\n",
              "y                0\n",
              "dtype: int64"
            ],
            "text/html": [
              "<div>\n",
              "<style scoped>\n",
              "    .dataframe tbody tr th:only-of-type {\n",
              "        vertical-align: middle;\n",
              "    }\n",
              "\n",
              "    .dataframe tbody tr th {\n",
              "        vertical-align: top;\n",
              "    }\n",
              "\n",
              "    .dataframe thead th {\n",
              "        text-align: right;\n",
              "    }\n",
              "</style>\n",
              "<table border=\"1\" class=\"dataframe\">\n",
              "  <thead>\n",
              "    <tr style=\"text-align: right;\">\n",
              "      <th></th>\n",
              "      <th>0</th>\n",
              "    </tr>\n",
              "  </thead>\n",
              "  <tbody>\n",
              "    <tr>\n",
              "      <th>age</th>\n",
              "      <td>0</td>\n",
              "    </tr>\n",
              "    <tr>\n",
              "      <th>job</th>\n",
              "      <td>288</td>\n",
              "    </tr>\n",
              "    <tr>\n",
              "      <th>marital</th>\n",
              "      <td>0</td>\n",
              "    </tr>\n",
              "    <tr>\n",
              "      <th>education</th>\n",
              "      <td>1857</td>\n",
              "    </tr>\n",
              "    <tr>\n",
              "      <th>default</th>\n",
              "      <td>0</td>\n",
              "    </tr>\n",
              "    <tr>\n",
              "      <th>balance</th>\n",
              "      <td>0</td>\n",
              "    </tr>\n",
              "    <tr>\n",
              "      <th>housing</th>\n",
              "      <td>0</td>\n",
              "    </tr>\n",
              "    <tr>\n",
              "      <th>loan</th>\n",
              "      <td>0</td>\n",
              "    </tr>\n",
              "    <tr>\n",
              "      <th>contact</th>\n",
              "      <td>13020</td>\n",
              "    </tr>\n",
              "    <tr>\n",
              "      <th>day</th>\n",
              "      <td>0</td>\n",
              "    </tr>\n",
              "    <tr>\n",
              "      <th>month</th>\n",
              "      <td>0</td>\n",
              "    </tr>\n",
              "    <tr>\n",
              "      <th>campaign</th>\n",
              "      <td>0</td>\n",
              "    </tr>\n",
              "    <tr>\n",
              "      <th>pdays</th>\n",
              "      <td>0</td>\n",
              "    </tr>\n",
              "    <tr>\n",
              "      <th>previous</th>\n",
              "      <td>0</td>\n",
              "    </tr>\n",
              "    <tr>\n",
              "      <th>poutcome</th>\n",
              "      <td>36959</td>\n",
              "    </tr>\n",
              "    <tr>\n",
              "      <th>y</th>\n",
              "      <td>0</td>\n",
              "    </tr>\n",
              "  </tbody>\n",
              "</table>\n",
              "</div><br><label><b>dtype:</b> int64</label>"
            ]
          },
          "metadata": {},
          "execution_count": 148
        }
      ]
    },
    {
      "cell_type": "code",
      "source": [
        "# List of columns where \"unknown\" should be replaced with the mode\n",
        "selected_columns = ['job', 'education']\n",
        "\n",
        "# Replace \"unknown\" with the mode for the selected columns\n",
        "for col in selected_columns:\n",
        "    mode = bankdataset[col].mode()[0]\n",
        "    bankdataset[col] = bankdataset[col].replace('unknown', mode)\n"
      ],
      "metadata": {
        "id": "KqGUz7kCZscU"
      },
      "execution_count": 149,
      "outputs": []
    },
    {
      "cell_type": "code",
      "source": [
        "#numeric and categoric columns\n",
        "integer_columns = bankdataset.select_dtypes(include=['int64'])\n",
        "string_columns = bankdataset.select_dtypes(include=['object'])"
      ],
      "metadata": {
        "collapsed": true,
        "id": "uAxrFgeaZJY0"
      },
      "execution_count": 150,
      "outputs": []
    },
    {
      "cell_type": "code",
      "source": [
        "# Remove punctuation\n",
        "import string\n",
        "\n",
        "string_columns = bankdataset.select_dtypes(include=['object'])\n",
        "bankdataset[string_columns.columns] = string_columns.apply(\n",
        "    lambda col: col.str.replace(f\"[{string.punctuation}]\", \"\", regex=True)\n",
        ")\n"
      ],
      "metadata": {
        "id": "I9cKTlMqdaMG"
      },
      "execution_count": 151,
      "outputs": []
    },
    {
      "cell_type": "code",
      "source": [
        "# Encoding categorical variables\n",
        "label_encoders = {}\n",
        "for col in string_columns.columns:\n",
        "    le = LabelEncoder()\n",
        "    bankdataset[col] = le.fit_transform(bankdataset[col])\n",
        "    label_encoders[col] = le\n",
        "\n",
        "# Encoding target variable 'y'\n",
        "if 'y' not in label_encoders:  # Check if 'y' is already in label_encoders\n",
        "    le_y = LabelEncoder()\n",
        "    bankdataset['y'] = le_y.fit_transform(bankdataset['y'])\n",
        "    label_encoders['y'] = le_y"
      ],
      "metadata": {
        "id": "N-Wp0TAGygcd"
      },
      "execution_count": 152,
      "outputs": []
    },
    {
      "cell_type": "code",
      "source": [
        "# Scaling numeric features\n",
        "scaler = StandardScaler()\n",
        "integer_columns_scaled = scaler.fit_transform(bankdataset[integer_columns.columns])\n",
        "integer_columns_scaled_df = pd.DataFrame(integer_columns_scaled, columns=integer_columns.columns)\n",
        "\n",
        "# Combine scaled numeric features with encoded categorical features\n",
        "bankdataset_preprocessed = pd.concat([integer_columns_scaled_df, bankdataset[string_columns.columns]], axis=1)"
      ],
      "metadata": {
        "id": "PZkQqWiM7ROH"
      },
      "execution_count": 153,
      "outputs": []
    },
    {
      "cell_type": "code",
      "source": [
        "# Splitting the dataset into train and test sets\n",
        "X = bankdataset_preprocessed.drop(columns=['y'])\n",
        "y = bankdataset_preprocessed['y']\n",
        "X_train, X_test, y_train, y_test = train_test_split(X, y, test_size=0.2, random_state=42)"
      ],
      "metadata": {
        "id": "Z6KPsszN7TU0"
      },
      "execution_count": 154,
      "outputs": []
    },
    {
      "cell_type": "markdown",
      "source": [
        "Random Forest"
      ],
      "metadata": {
        "id": "GS0PmOPdubkZ"
      }
    },
    {
      "cell_type": "code",
      "source": [
        "# Train Random Forest Classifier (max_depth to reduce overfitting)\n",
        "ranfor_model = RandomForestClassifier(random_state=54, max_depth=15)\n",
        "ranfor_model.fit(X_train, y_train)\n",
        "\n",
        "# Predictions and Evaluation\n",
        "y_pred_rf = ranfor_model.predict(X_test)\n",
        "print(\"Random Forest Classifier Evaluation\")\n",
        "print(classification_report(y_test, y_pred_rf))\n",
        "print(\"Accuracy:\", accuracy_score(y_test, y_pred_rf))\n",
        "\n",
        "\n",
        "importances = ranfor_model.feature_importances_\n",
        "indices = np.argsort(importances)[::-1]\n",
        "plt.figure(figsize=(12, 6))\n",
        "plt.barh(X_train.columns[indices], importances[indices])\n",
        "plt.title(\"Feature Importance\")\n",
        "plt.show()\n"
      ],
      "metadata": {
        "colab": {
          "base_uri": "https://localhost:8080/",
          "height": 736
        },
        "id": "flyScMgTNVIo",
        "outputId": "f5c2bda9-2436-40d1-a2d2-079568a341fd"
      },
      "execution_count": 155,
      "outputs": [
        {
          "output_type": "stream",
          "name": "stdout",
          "text": [
            "Random Forest Classifier Evaluation\n",
            "              precision    recall  f1-score   support\n",
            "\n",
            "           0       0.90      0.99      0.94      7952\n",
            "           1       0.70      0.20      0.31      1091\n",
            "\n",
            "    accuracy                           0.89      9043\n",
            "   macro avg       0.80      0.59      0.62      9043\n",
            "weighted avg       0.88      0.89      0.87      9043\n",
            "\n",
            "Accuracy: 0.8929558774742895\n"
          ]
        },
        {
          "output_type": "display_data",
          "data": {
            "text/plain": [
              "<Figure size 1200x600 with 1 Axes>"
            ],
            "image/png": "[encoded data removed]"
          },
          "metadata": {}
        }
      ]
    },
    {
      "cell_type": "markdown",
      "source": [
        "Feedforward Neural Network"
      ],
      "metadata": {
        "id": "JeqoYEqPG4I-"
      }
    },
    {
      "cell_type": "code",
      "source": [
        "# Neural Network Model\n",
        "FF_NN_Model = Sequential([\n",
        "    Input(shape=(X_train.shape[1],)),\n",
        "    Dense(128, activation='relu', kernel_regularizer='l2'),  # 1 hidden layer\n",
        "    Dropout(0.3),  # Dropout  regularization\n",
        "    Dense(64, activation='relu', kernel_regularizer='l2'),  # 2 hidden layer\n",
        "    Dropout(0.3),\n",
        "    Dense(1, activation='sigmoid')  # OL for binary classification\n",
        "])\n",
        "\n",
        "# Compile the Model\n",
        "FF_NN_Model.compile(optimizer='adam', loss='binary_crossentropy',metrics=['accuracy'])\n",
        "\n",
        "# Early Stopping Callback\n",
        "early_stopping = EarlyStopping(monitor='val_loss', patience=5, restore_best_weights=True)\n",
        "reduce_lr = ReduceLROnPlateau(monitor='val_loss', factor=0.5, patience=3, min_lr=1e-5)\n",
        "\n",
        "# Train the Model\n",
        "history = FF_NN_Model.fit(\n",
        "    X_train, y_train,\n",
        "    epochs=50,\n",
        "    batch_size=32,\n",
        "    validation_data=(X_test, y_test),\n",
        "    callbacks=[early_stopping, reduce_lr]\n",
        ")\n",
        "\n",
        "# Evaluate the Model\n",
        "FF_NN_loss, FF_NN_accuracy = FF_NN_Model.evaluate(X_test, y_test)\n",
        "print(\"Neural Network Accuracy on Test Data:\", FF_NN_accuracy)\n",
        "print(\"Neural Network Loss on Test Data:\", FF_NN_loss)\n",
        "\n",
        "# Loss\n",
        "plt.figure(figsize=(12, 5))\n",
        "plt.plot(history.history['loss'], label='Training Loss')\n",
        "plt.plot(history.history['val_loss'], label='Validation Loss')\n",
        "plt.legend()\n",
        "plt.xlabel('Epochs')\n",
        "plt.ylabel('Loss')\n",
        "plt.title('Training vs Validation Loss')\n",
        "plt.show()\n",
        "\n",
        "# Accuracy\n",
        "plt.plot(history.history['accuracy'], label='Training Accuracy')\n",
        "plt.plot(history.history['val_accuracy'], label='Validation Accuracy')\n",
        "plt.legend()\n",
        "plt.xlabel('Epochs')\n",
        "plt.ylabel('Accuracy')\n",
        "plt.title('Training and Validation Accuracy')\n",
        "plt.show()\n"
      ],
      "metadata": {
        "colab": {
          "base_uri": "https://localhost:8080/"
        },
        "id": "nlTBNtytNfI8",
        "outputId": "01085ed8-f953-45e3-b5a4-efde653fb028"
      },
      "execution_count": null,
      "outputs": [
        {
          "output_type": "stream",
          "name": "stdout",
          "text": [
            "Epoch 1/50\n",
            "\u001b[1m1131/1131\u001b[0m \u001b[32m━━━━━━━━━━━━━━━━━━━━\u001b[0m\u001b[37m\u001b[0m \u001b[1m8s\u001b[0m 5ms/step - accuracy: 0.8617 - loss: 0.8094 - val_accuracy: 0.8794 - val_loss: 0.3701 - learning_rate: 0.0010\n",
            "Epoch 2/50\n",
            "\u001b[1m1131/1131\u001b[0m \u001b[32m━━━━━━━━━━━━━━━━━━━━\u001b[0m\u001b[37m\u001b[0m \u001b[1m5s\u001b[0m 5ms/step - accuracy: 0.8846 - loss: 0.3547 - val_accuracy: 0.8794 - val_loss: 0.3554 - learning_rate: 0.0010\n",
            "Epoch 3/50\n",
            "\u001b[1m1131/1131\u001b[0m \u001b[32m━━━━━━━━━━━━━━━━━━━━\u001b[0m\u001b[37m\u001b[0m \u001b[1m11s\u001b[0m 5ms/step - accuracy: 0.8850 - loss: 0.3453 - val_accuracy: 0.8794 - val_loss: 0.3522 - learning_rate: 0.0010\n",
            "Epoch 4/50\n",
            "\u001b[1m1131/1131\u001b[0m \u001b[32m━━━━━━━━━━━━━━━━━━━━\u001b[0m\u001b[37m\u001b[0m \u001b[1m7s\u001b[0m 6ms/step - accuracy: 0.8837 - loss: 0.3436 - val_accuracy: 0.8794 - val_loss: 0.3556 - learning_rate: 0.0010\n",
            "Epoch 5/50\n",
            "\u001b[1m1131/1131\u001b[0m \u001b[32m━━━━━━━━━━━━━━━━━━━━\u001b[0m\u001b[37m\u001b[0m \u001b[1m7s\u001b[0m 6ms/step - accuracy: 0.8849 - loss: 0.3378 - val_accuracy: 0.8794 - val_loss: 0.3476 - learning_rate: 0.0010\n",
            "Epoch 6/50\n",
            "\u001b[1m1131/1131\u001b[0m \u001b[32m━━━━━━━━━━━━━━━━━━━━\u001b[0m\u001b[37m\u001b[0m \u001b[1m10s\u001b[0m 6ms/step - accuracy: 0.8839 - loss: 0.3399 - val_accuracy: 0.8794 - val_loss: 0.3468 - learning_rate: 0.0010\n",
            "Epoch 7/50\n",
            "\u001b[1m1131/1131\u001b[0m \u001b[32m━━━━━━━━━━━━━━━━━━━━\u001b[0m\u001b[37m\u001b[0m \u001b[1m6s\u001b[0m 3ms/step - accuracy: 0.8847 - loss: 0.3383 - val_accuracy: 0.8794 - val_loss: 0.3448 - learning_rate: 0.0010\n",
            "Epoch 8/50\n",
            "\u001b[1m1131/1131\u001b[0m \u001b[32m━━━━━━━━━━━━━━━━━━━━\u001b[0m\u001b[37m\u001b[0m \u001b[1m4s\u001b[0m 3ms/step - accuracy: 0.8848 - loss: 0.3383 - val_accuracy: 0.8794 - val_loss: 0.3457 - learning_rate: 0.0010\n",
            "Epoch 9/50\n",
            "\u001b[1m1131/1131\u001b[0m \u001b[32m━━━━━━━━━━━━━━━━━━━━\u001b[0m\u001b[37m\u001b[0m \u001b[1m4s\u001b[0m 4ms/step - accuracy: 0.8859 - loss: 0.3357 - val_accuracy: 0.8794 - val_loss: 0.3446 - learning_rate: 0.0010\n",
            "Epoch 10/50\n",
            "\u001b[1m1131/1131\u001b[0m \u001b[32m━━━━━━━━━━━━━━━━━━━━\u001b[0m\u001b[37m\u001b[0m \u001b[1m3s\u001b[0m 3ms/step - accuracy: 0.8837 - loss: 0.3397 - val_accuracy: 0.8794 - val_loss: 0.3419 - learning_rate: 0.0010\n",
            "Epoch 11/50\n",
            "\u001b[1m1131/1131\u001b[0m \u001b[32m━━━━━━━━━━━━━━━━━━━━\u001b[0m\u001b[37m\u001b[0m \u001b[1m3s\u001b[0m 3ms/step - accuracy: 0.8846 - loss: 0.3356 - val_accuracy: 0.8794 - val_loss: 0.3420 - learning_rate: 0.0010\n",
            "Epoch 12/50\n",
            "\u001b[1m1131/1131\u001b[0m \u001b[32m━━━━━━━━━━━━━━━━━━━━\u001b[0m\u001b[37m\u001b[0m \u001b[1m3s\u001b[0m 3ms/step - accuracy: 0.8814 - loss: 0.3396 - val_accuracy: 0.8794 - val_loss: 0.3398 - learning_rate: 0.0010\n",
            "Epoch 13/50\n",
            "\u001b[1m1131/1131\u001b[0m \u001b[32m━━━━━━━━━━━━━━━━━━━━\u001b[0m\u001b[37m\u001b[0m \u001b[1m5s\u001b[0m 4ms/step - accuracy: 0.8816 - loss: 0.3412 - val_accuracy: 0.8794 - val_loss: 0.3379 - learning_rate: 0.0010\n",
            "Epoch 14/50\n",
            "\u001b[1m1131/1131\u001b[0m \u001b[32m━━━━━━━━━━━━━━━━━━━━\u001b[0m\u001b[37m\u001b[0m \u001b[1m4s\u001b[0m 3ms/step - accuracy: 0.8865 - loss: 0.3318 - val_accuracy: 0.8794 - val_loss: 0.3387 - learning_rate: 0.0010\n",
            "Epoch 15/50\n",
            "\u001b[1m1131/1131\u001b[0m \u001b[32m━━━━━━━━━━━━━━━━━━━━\u001b[0m\u001b[37m\u001b[0m \u001b[1m5s\u001b[0m 3ms/step - accuracy: 0.8875 - loss: 0.3313 - val_accuracy: 0.8795 - val_loss: 0.3388 - learning_rate: 0.0010\n",
            "Epoch 16/50\n",
            "\u001b[1m1131/1131\u001b[0m \u001b[32m━━━━━━━━━━━━━━━━━━━━\u001b[0m\u001b[37m\u001b[0m \u001b[1m9s\u001b[0m 6ms/step - accuracy: 0.8836 - loss: 0.3388 - val_accuracy: 0.8794 - val_loss: 0.3413 - learning_rate: 0.0010\n",
            "Epoch 17/50\n",
            "\u001b[1m1131/1131\u001b[0m \u001b[32m━━━━━━━━━━━━━━━━━━━━\u001b[0m\u001b[37m\u001b[0m \u001b[1m6s\u001b[0m 5ms/step - accuracy: 0.8828 - loss: 0.3358 - val_accuracy: 0.8794 - val_loss: 0.3403 - learning_rate: 5.0000e-04\n",
            "Epoch 18/50\n",
            "\u001b[1m1131/1131\u001b[0m \u001b[32m━━━━━━━━━━━━━━━━━━━━\u001b[0m\u001b[37m\u001b[0m \u001b[1m13s\u001b[0m 7ms/step - accuracy: 0.8834 - loss: 0.3332 - val_accuracy: 0.8794 - val_loss: 0.3364 - learning_rate: 5.0000e-04\n",
            "Epoch 19/50\n",
            "\u001b[1m1131/1131\u001b[0m \u001b[32m━━━━━━━━━━━━━━━━━━━━\u001b[0m\u001b[37m\u001b[0m \u001b[1m6s\u001b[0m 6ms/step - accuracy: 0.8820 - loss: 0.3355 - val_accuracy: 0.8795 - val_loss: 0.3348 - learning_rate: 5.0000e-04\n",
            "Epoch 20/50\n",
            "\u001b[1m1131/1131\u001b[0m \u001b[32m━━━━━━━━━━━━━━━━━━━━\u001b[0m\u001b[37m\u001b[0m \u001b[1m10s\u001b[0m 5ms/step - accuracy: 0.8828 - loss: 0.3326 - val_accuracy: 0.8794 - val_loss: 0.3441 - learning_rate: 5.0000e-04\n",
            "Epoch 21/50\n",
            "\u001b[1m1131/1131\u001b[0m \u001b[32m━━━━━━━━━━━━━━━━━━━━\u001b[0m\u001b[37m\u001b[0m \u001b[1m5s\u001b[0m 5ms/step - accuracy: 0.8837 - loss: 0.3345 - val_accuracy: 0.8801 - val_loss: 0.3358 - learning_rate: 5.0000e-04\n",
            "Epoch 22/50\n",
            "\u001b[1m1131/1131\u001b[0m \u001b[32m━━━━━━━━━━━━━━━━━━━━\u001b[0m\u001b[37m\u001b[0m \u001b[1m9s\u001b[0m 8ms/step - accuracy: 0.8842 - loss: 0.3331 - val_accuracy: 0.8796 - val_loss: 0.3339 - learning_rate: 5.0000e-04\n",
            "Epoch 23/50\n",
            "\u001b[1m1131/1131\u001b[0m \u001b[32m━━━━━━━━━━━━━━━━━━━━\u001b[0m\u001b[37m\u001b[0m \u001b[1m6s\u001b[0m 5ms/step - accuracy: 0.8828 - loss: 0.3284 - val_accuracy: 0.8806 - val_loss: 0.3336 - learning_rate: 5.0000e-04\n",
            "Epoch 24/50\n",
            "\u001b[1m1131/1131\u001b[0m \u001b[32m━━━━━━━━━━━━━━━━━━━━\u001b[0m\u001b[37m\u001b[0m \u001b[1m3s\u001b[0m 3ms/step - accuracy: 0.8804 - loss: 0.3378 - val_accuracy: 0.8807 - val_loss: 0.3339 - learning_rate: 5.0000e-04\n",
            "Epoch 25/50\n",
            "\u001b[1m1131/1131\u001b[0m \u001b[32m━━━━━━━━━━━━━━━━━━━━\u001b[0m\u001b[37m\u001b[0m \u001b[1m5s\u001b[0m 4ms/step - accuracy: 0.8796 - loss: 0.3378 - val_accuracy: 0.8800 - val_loss: 0.3344 - learning_rate: 5.0000e-04\n",
            "Epoch 26/50\n",
            "\u001b[1m1131/1131\u001b[0m \u001b[32m━━━━━━━━━━━━━━━━━━━━\u001b[0m\u001b[37m\u001b[0m \u001b[1m4s\u001b[0m 3ms/step - accuracy: 0.8863 - loss: 0.3264 - val_accuracy: 0.8798 - val_loss: 0.3345 - learning_rate: 5.0000e-04\n",
            "Epoch 27/50\n",
            "\u001b[1m 910/1131\u001b[0m \u001b[32m━━━━━━━━━━━━━━━━\u001b[0m\u001b[37m━━━━\u001b[0m \u001b[1m0s\u001b[0m 2ms/step - accuracy: 0.8840 - loss: 0.3346"
          ]
        }
      ]
    },
    {
      "cell_type": "code",
      "source": [
        "# Get predictions\n",
        "y_pred_probabilities = FF_NN_Model.predict(X_test)\n",
        "\n",
        "# first 10 predictions\n",
        "print(\"Predicted probabilities for y:\")\n",
        "print(y_pred_probabilities[:10])"
      ],
      "metadata": {
        "colab": {
          "base_uri": "https://localhost:8080/"
        },
        "id": "w2o_pq8JWfWu",
        "outputId": "78a05bd8-0a29-458b-cc35-8d3b9a0cdf47"
      },
      "execution_count": 68,
      "outputs": [
        {
          "output_type": "stream",
          "name": "stdout",
          "text": [
            "\u001b[1m283/283\u001b[0m \u001b[32m━━━━━━━━━━━━━━━━━━━━\u001b[0m\u001b[37m\u001b[0m \u001b[1m1s\u001b[0m 2ms/step\n",
            "Predicted probabilities for y:\n",
            "[[0.04384886]\n",
            " [0.07361259]\n",
            " [0.15188588]\n",
            " [0.31860882]\n",
            " [0.10909812]\n",
            " [0.14367461]\n",
            " [0.16907617]\n",
            " [0.12382834]\n",
            " [0.09094507]\n",
            " [0.0457539 ]]\n",
            "Predicted binary class for y:\n",
            "[[0]\n",
            " [0]\n",
            " [0]\n",
            " [0]\n",
            " [0]\n",
            " [0]\n",
            " [0]\n",
            " [0]\n",
            " [0]\n",
            " [0]]\n"
          ]
        }
      ]
    },
    {
      "cell_type": "code",
      "source": [
        "# Save the Random Forest Model\n",
        "joblib.dump(rf_model, 'random_forest_model.pkl')\n",
        "print(\"Random Forest model saved\")\n",
        "\n",
        "# Save the Neural Network Model\n",
        "FF_NN_Model.save('neural_network_model.h5')\n",
        "print(\"Neural Network model saved\")\n",
        "\n",
        "# Summary Comparison of Models\n",
        "print(\"Summary Comparison:\")\n",
        "print(f\"Random Forest Accuracy: {accuracy_score(y_test, y_pred_rf)}\")\n",
        "print(f\"Neural Network Accuracy: {FF_NN_accuracy}\")"
      ],
      "metadata": {
        "id": "U8rv8a1By_oT",
        "colab": {
          "base_uri": "https://localhost:8080/"
        },
        "outputId": "325fb2f4-92f0-492d-c6e0-ca07956185b4"
      },
      "execution_count": 48,
      "outputs": [
        {
          "output_type": "stream",
          "name": "stdout",
          "text": [
            "Summary Comparison:\n",
            "Random Forest Accuracy: 0.8929558774742895\n",
            "Neural Network Accuracy: 0.8809023499488831\n"
          ]
        }
      ]
    }
  ]
}