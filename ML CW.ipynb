{
  "nbformat": 4,
  "nbformat_minor": 0,
  "metadata": {
    "colab": {
      "provenance": [],
      "include_colab_link": true
    },
    "kernelspec": {
      "name": "python3",
      "display_name": "Python 3"
    },
    "language_info": {
      "name": "python"
    }
  },
  "cells": [
    {
      "cell_type": "markdown",
      "metadata": {
        "id": "view-in-github",
        "colab_type": "text"
      },
      "source": [
        "<a href=\"https://colab.research.google.com/github/Deegayu-Mihiraj/Bank-Marketing-ML-Project/blob/main/ML%20CW.ipynb\" target=\"_parent\"><img src=\"https://colab.research.google.com/assets/colab-badge.svg\" alt=\"Open In Colab\"/></a>"
      ]
    },
    {
      "cell_type": "code",
      "execution_count": 187,
      "metadata": {
        "id": "e1DisSbjXLG7"
      },
      "outputs": [],
      "source": [
        "import pandas as pd\n",
        "import numpy as np\n",
        "from sklearn.preprocessing import LabelEncoder, StandardScaler\n",
        "from sklearn.model_selection import train_test_split\n",
        "from tensorflow.keras.models import Sequential\n",
        "from tensorflow.keras.layers import Dense, Dropout, Input\n",
        "from tensorflow.keras.callbacks import EarlyStopping, ReduceLROnPlateau\n",
        "from sklearn.ensemble import RandomForestClassifier\n",
        "from sklearn.metrics import precision_score, recall_score, f1_score, roc_auc_score, accuracy_score, classification_report\n",
        "import matplotlib.pyplot as plt\n",
        "import joblib"
      ]
    },
    {
      "cell_type": "markdown",
      "source": [
        "Mount Google Drive and import dataset"
      ],
      "metadata": {
        "id": "XRY4cq_DXwv0"
      }
    },
    {
      "cell_type": "code",
      "source": [
        "from google.colab import drive\n",
        "drive.mount('/content/drive')"
      ],
      "metadata": {
        "colab": {
          "base_uri": "https://localhost:8080/"
        },
        "id": "uvHO_j6xXwGY",
        "outputId": "287bbd69-d464-487d-d486-0f1c084eb3e0"
      },
      "execution_count": 188,
      "outputs": [
        {
          "output_type": "stream",
          "name": "stdout",
          "text": [
            "Drive already mounted at /content/drive; to attempt to forcibly remount, call drive.mount(\"/content/drive\", force_remount=True).\n"
          ]
        }
      ]
    },
    {
      "cell_type": "code",
      "source": [
        "bankdataset = pd.read_csv('/content/drive/MyDrive/Machine Learning/CW/bank-full.csv', sep=';')"
      ],
      "metadata": {
        "collapsed": true,
        "id": "GdN3oOFbX6lk"
      },
      "execution_count": 190,
      "outputs": []
    },
    {
      "cell_type": "markdown",
      "source": [
        "***Data Preprocessing***"
      ],
      "metadata": {
        "id": "TkT5bJrNYJCY"
      }
    },
    {
      "cell_type": "code",
      "source": [
        "# Drop 'duration' column for realistic predictive modeling\n",
        "bankdataset.drop(columns=['duration'], inplace=True)"
      ],
      "metadata": {
        "id": "noafnmfS_Toh"
      },
      "execution_count": 191,
      "outputs": []
    },
    {
      "cell_type": "code",
      "source": [
        "bankdataset.isin(['unknown']).sum()\n"
      ],
      "metadata": {
        "colab": {
          "base_uri": "https://localhost:8080/",
          "height": 585
        },
        "collapsed": true,
        "id": "OI6aBQppeZsS",
        "outputId": "af3bb0b7-a14f-4dee-f182-fefff4a2c839"
      },
      "execution_count": 192,
      "outputs": [
        {
          "output_type": "execute_result",
          "data": {
            "text/plain": [
              "age              0\n",
              "job            288\n",
              "marital          0\n",
              "education     1857\n",
              "default          0\n",
              "balance          0\n",
              "housing          0\n",
              "loan             0\n",
              "contact      13020\n",
              "day              0\n",
              "month            0\n",
              "campaign         0\n",
              "pdays            0\n",
              "previous         0\n",
              "poutcome     36959\n",
              "y                0\n",
              "dtype: int64"
            ],
            "text/html": [
              "<div>\n",
              "<style scoped>\n",
              "    .dataframe tbody tr th:only-of-type {\n",
              "        vertical-align: middle;\n",
              "    }\n",
              "\n",
              "    .dataframe tbody tr th {\n",
              "        vertical-align: top;\n",
              "    }\n",
              "\n",
              "    .dataframe thead th {\n",
              "        text-align: right;\n",
              "    }\n",
              "</style>\n",
              "<table border=\"1\" class=\"dataframe\">\n",
              "  <thead>\n",
              "    <tr style=\"text-align: right;\">\n",
              "      <th></th>\n",
              "      <th>0</th>\n",
              "    </tr>\n",
              "  </thead>\n",
              "  <tbody>\n",
              "    <tr>\n",
              "      <th>age</th>\n",
              "      <td>0</td>\n",
              "    </tr>\n",
              "    <tr>\n",
              "      <th>job</th>\n",
              "      <td>288</td>\n",
              "    </tr>\n",
              "    <tr>\n",
              "      <th>marital</th>\n",
              "      <td>0</td>\n",
              "    </tr>\n",
              "    <tr>\n",
              "      <th>education</th>\n",
              "      <td>1857</td>\n",
              "    </tr>\n",
              "    <tr>\n",
              "      <th>default</th>\n",
              "      <td>0</td>\n",
              "    </tr>\n",
              "    <tr>\n",
              "      <th>balance</th>\n",
              "      <td>0</td>\n",
              "    </tr>\n",
              "    <tr>\n",
              "      <th>housing</th>\n",
              "      <td>0</td>\n",
              "    </tr>\n",
              "    <tr>\n",
              "      <th>loan</th>\n",
              "      <td>0</td>\n",
              "    </tr>\n",
              "    <tr>\n",
              "      <th>contact</th>\n",
              "      <td>13020</td>\n",
              "    </tr>\n",
              "    <tr>\n",
              "      <th>day</th>\n",
              "      <td>0</td>\n",
              "    </tr>\n",
              "    <tr>\n",
              "      <th>month</th>\n",
              "      <td>0</td>\n",
              "    </tr>\n",
              "    <tr>\n",
              "      <th>campaign</th>\n",
              "      <td>0</td>\n",
              "    </tr>\n",
              "    <tr>\n",
              "      <th>pdays</th>\n",
              "      <td>0</td>\n",
              "    </tr>\n",
              "    <tr>\n",
              "      <th>previous</th>\n",
              "      <td>0</td>\n",
              "    </tr>\n",
              "    <tr>\n",
              "      <th>poutcome</th>\n",
              "      <td>36959</td>\n",
              "    </tr>\n",
              "    <tr>\n",
              "      <th>y</th>\n",
              "      <td>0</td>\n",
              "    </tr>\n",
              "  </tbody>\n",
              "</table>\n",
              "</div><br><label><b>dtype:</b> int64</label>"
            ]
          },
          "metadata": {},
          "execution_count": 192
        }
      ]
    },
    {
      "cell_type": "code",
      "source": [
        "# List of columns where \"unknown\" should be replaced with the mode\n",
        "selected_columns = ['job', 'education']\n",
        "\n",
        "# Replace \"unknown\" with the mode for the selected columns\n",
        "for col in selected_columns:\n",
        "    mode = bankdataset[col].mode()[0]\n",
        "    bankdataset[col] = bankdataset[col].replace('unknown', mode)\n"
      ],
      "metadata": {
        "id": "KqGUz7kCZscU"
      },
      "execution_count": 193,
      "outputs": []
    },
    {
      "cell_type": "code",
      "source": [
        "#numeric and categoric columns\n",
        "integer_columns = bankdataset.select_dtypes(include=['int64'])\n",
        "string_columns = bankdataset.select_dtypes(include=['object'])"
      ],
      "metadata": {
        "collapsed": true,
        "id": "uAxrFgeaZJY0"
      },
      "execution_count": 194,
      "outputs": []
    },
    {
      "cell_type": "code",
      "source": [
        "# Remove punctuation\n",
        "import string\n",
        "\n",
        "string_columns = bankdataset.select_dtypes(include=['object'])\n",
        "bankdataset[string_columns.columns] = string_columns.apply(\n",
        "    lambda col: col.str.replace(f\"[{string.punctuation}]\", \"\", regex=True)\n",
        ")\n"
      ],
      "metadata": {
        "id": "I9cKTlMqdaMG"
      },
      "execution_count": 195,
      "outputs": []
    },
    {
      "cell_type": "code",
      "source": [
        "# Encoding categorical variables\n",
        "label_encoders = {}\n",
        "for col in string_columns.columns:\n",
        "    le = LabelEncoder()\n",
        "    bankdataset[col] = le.fit_transform(bankdataset[col])\n",
        "    label_encoders[col] = le\n",
        "\n",
        "# Encoding target variable 'y'\n",
        "if 'y' not in label_encoders:  # Check if 'y' is already in label_encoders\n",
        "    le_y = LabelEncoder()\n",
        "    bankdataset['y'] = le_y.fit_transform(bankdataset['y'])\n",
        "    label_encoders['y'] = le_y"
      ],
      "metadata": {
        "id": "N-Wp0TAGygcd"
      },
      "execution_count": 196,
      "outputs": []
    },
    {
      "cell_type": "code",
      "source": [
        "# Scaling numeric features\n",
        "scaler = StandardScaler()\n",
        "integer_columns_scaled = scaler.fit_transform(bankdataset[integer_columns.columns])\n",
        "integer_columns_scaled_df = pd.DataFrame(integer_columns_scaled, columns=integer_columns.columns)\n",
        "\n",
        "# Combine scaled numeric features with encoded categorical features\n",
        "bankdataset_preprocessed = pd.concat([integer_columns_scaled_df, bankdataset[string_columns.columns]], axis=1)"
      ],
      "metadata": {
        "id": "PZkQqWiM7ROH"
      },
      "execution_count": 197,
      "outputs": []
    },
    {
      "cell_type": "code",
      "source": [
        "# Splitting the dataset into train and test sets\n",
        "X = bankdataset_preprocessed.drop(columns=['y'])\n",
        "y = bankdataset_preprocessed['y']\n",
        "X_train, X_test, y_train, y_test = train_test_split(X, y, test_size=0.2, random_state=42)"
      ],
      "metadata": {
        "id": "Z6KPsszN7TU0"
      },
      "execution_count": 198,
      "outputs": []
    },
    {
      "cell_type": "markdown",
      "source": [
        "Random Forest"
      ],
      "metadata": {
        "id": "GS0PmOPdubkZ"
      }
    },
    {
      "cell_type": "code",
      "source": [
        "# Train Random Forest Classifier (max_depth to reduce overfitting)\n",
        "ranfor_model = RandomForestClassifier(random_state=54, max_depth=15)\n",
        "ranfor_model.fit(X_train, y_train)\n",
        "\n",
        "# Predictions and Evaluation\n",
        "y_pred_rf = ranfor_model.predict(X_test)\n",
        "print(\"Random Forest Classifier Evaluation\")\n",
        "print(classification_report(y_test, y_pred_rf))\n",
        "print(\"Accuracy:\", accuracy_score(y_test, y_pred_rf))\n",
        "\n",
        "# Random Forest AUC-ROC Evaluation\n",
        "y_pred_proba_rf = ranfor_model.predict_proba(X_test)[:, 1]  # Get probabilities for the positive class\n",
        "roc_auc_rf = roc_auc_score(y_test, y_pred_proba_rf)\n",
        "\n",
        "# Metrics\n",
        "accuracy_rf = accuracy_score(y_test, y_pred_rf)\n",
        "precision_rf = precision_score(y_test, y_pred_rf)\n",
        "recall_rf = recall_score(y_test, y_pred_rf)\n",
        "f1_rf = f1_score(y_test, y_pred_rf)\n",
        "auc_roc_rf = roc_auc_score(y_test, y_pred_proba_rf)\n",
        "\n",
        "# Print Metrics\n",
        "print(\"Precision:\", precision_rf)\n",
        "print(\"Recall:\", recall_rf)\n",
        "print(\"F1 Score:\", f1_rf)\n",
        "print(\"AUC-ROC:\", roc_auc_rf)\n"
      ],
      "metadata": {
        "colab": {
          "base_uri": "https://localhost:8080/"
        },
        "id": "flyScMgTNVIo",
        "outputId": "8907f02c-9e9a-4e35-e61d-3c98df963fa7"
      },
      "execution_count": 199,
      "outputs": [
        {
          "output_type": "stream",
          "name": "stdout",
          "text": [
            "Random Forest Classifier Evaluation\n",
            "              precision    recall  f1-score   support\n",
            "\n",
            "           0       0.92      0.92      0.92      7952\n",
            "           1       0.44      0.43      0.44      1091\n",
            "\n",
            "    accuracy                           0.87      9043\n",
            "   macro avg       0.68      0.68      0.68      9043\n",
            "weighted avg       0.86      0.87      0.86      9043\n",
            "\n",
            "Accuracy: 0.8650890191308194\n",
            "AUC-ROC: 0.772566309866532\n"
          ]
        }
      ]
    },
    {
      "cell_type": "markdown",
      "source": [
        "Feedforward Neural Network"
      ],
      "metadata": {
        "id": "JeqoYEqPG4I-"
      }
    },
    {
      "cell_type": "code",
      "source": [
        "# Neural Network Model\n",
        "FF_NN_Model = Sequential([\n",
        "    Input(shape=(X_train.shape[1],)),\n",
        "    Dense(128, activation='relu', kernel_regularizer='l2'),  # 1 hidden layer\n",
        "    Dropout(0.3),  # Dropout  regularization\n",
        "    Dense(64, activation='relu', kernel_regularizer='l2'),  # 2 hidden layer\n",
        "    Dropout(0.3),\n",
        "    Dense(1, activation='sigmoid')  # OL for binary classification\n",
        "])\n",
        "\n",
        "# Compile the Model\n",
        "FF_NN_Model.compile(optimizer='adam', loss='binary_crossentropy',metrics=['accuracy'])\n",
        "\n",
        "# Early Stopping Callback\n",
        "early_stopping = EarlyStopping(monitor='val_loss', patience=5, restore_best_weights=True)\n",
        "reduce_lr = ReduceLROnPlateau(monitor='val_loss', factor=0.5, patience=3, min_lr=1e-5)\n",
        "\n",
        "# Train the Model\n",
        "history = FF_NN_Model.fit(\n",
        "    X_train, y_train,\n",
        "    epochs=50,\n",
        "    batch_size=32,\n",
        "    validation_data=(X_test, y_test),\n",
        "    callbacks=[early_stopping, reduce_lr]\n",
        ")\n",
        "\n",
        "# Evaluate the Model\n",
        "FF_NN_loss, FF_NN_accuracy = FF_NN_Model.evaluate(X_test, y_test)\n",
        "print(\"Neural Network Accuracy on Test Data:\", FF_NN_accuracy)\n",
        "print(\"Neural Network Loss on Test Data:\", FF_NN_loss)\n",
        "\n",
        "# Predictions and AUC-ROC Evaluation\n",
        "y_pred_proba_nn = FF_NN_Model.predict(X_test).ravel()  # Predicted probabilities\n",
        "roc_auc_nn = roc_auc_score(y_test, y_pred_proba_nn)\n",
        "\n",
        "# Metrics\n",
        "accuracy_rf = accuracy_score(y_test, y_pred_rf)\n",
        "precision_rf = precision_score(y_test, y_pred_rf)\n",
        "recall_rf = recall_score(y_test, y_pred_rf)\n",
        "f1_rf = f1_score(y_test, y_pred_rf)\n",
        "auc_roc_rf = roc_auc_score(y_test, y_pred_proba_rf)\n",
        "\n",
        "# Print Metrics\n",
        "print(f\"Precision:\",precision_rf)\n",
        "print(f\"Recall:\", recall_rf)\n",
        "print(f\"F1 Score\", f1_rf)\n",
        "print(f\"AUC-ROC:\", auc_roc_rf)\n",
        "\n",
        "# Loss\n",
        "plt.figure(figsize=(12, 5))\n",
        "plt.plot(history.history['loss'], label='Training Loss')\n",
        "plt.plot(history.history['val_loss'], label='Validation Loss')\n",
        "plt.legend()\n",
        "plt.xlabel('Epochs')\n",
        "plt.ylabel('Loss')\n",
        "plt.title('Training vs Validation Loss')\n",
        "plt.show()\n",
        "\n",
        "# Accuracy\n",
        "plt.plot(history.history['accuracy'], label='Training Accuracy')\n",
        "plt.plot(history.history['val_accuracy'], label='Validation Accuracy')\n",
        "plt.legend()\n",
        "plt.xlabel('Epochs')\n",
        "plt.ylabel('Accuracy')\n",
        "plt.title('Training and Validation Accuracy')\n",
        "plt.show()\n"
      ],
      "metadata": {
        "colab": {
          "base_uri": "https://localhost:8080/",
          "height": 1000
        },
        "id": "nlTBNtytNfI8",
        "outputId": "d178cf8f-fa1d-4a6a-e6e4-6107a9b96834"
      },
      "execution_count": 200,
      "outputs": [
        {
          "output_type": "stream",
          "name": "stdout",
          "text": [
            "Epoch 1/50\n",
            "\u001b[1m1131/1131\u001b[0m \u001b[32m━━━━━━━━━━━━━━━━━━━━\u001b[0m\u001b[37m\u001b[0m \u001b[1m4s\u001b[0m 3ms/step - accuracy: 0.8786 - loss: 0.7490 - val_accuracy: 0.8794 - val_loss: 0.3658 - learning_rate: 0.0010\n",
            "Epoch 2/50\n",
            "\u001b[1m1131/1131\u001b[0m \u001b[32m━━━━━━━━━━━━━━━━━━━━\u001b[0m\u001b[37m\u001b[0m \u001b[1m6s\u001b[0m 3ms/step - accuracy: 0.8838 - loss: 0.3528 - val_accuracy: 0.8794 - val_loss: 0.3538 - learning_rate: 0.0010\n",
            "Epoch 3/50\n",
            "\u001b[1m1131/1131\u001b[0m \u001b[32m━━━━━━━━━━━━━━━━━━━━\u001b[0m\u001b[37m\u001b[0m \u001b[1m4s\u001b[0m 4ms/step - accuracy: 0.8795 - loss: 0.3549 - val_accuracy: 0.8794 - val_loss: 0.3516 - learning_rate: 0.0010\n",
            "Epoch 4/50\n",
            "\u001b[1m1131/1131\u001b[0m \u001b[32m━━━━━━━━━━━━━━━━━━━━\u001b[0m\u001b[37m\u001b[0m \u001b[1m4s\u001b[0m 3ms/step - accuracy: 0.8861 - loss: 0.3392 - val_accuracy: 0.8794 - val_loss: 0.3527 - learning_rate: 0.0010\n",
            "Epoch 5/50\n",
            "\u001b[1m1131/1131\u001b[0m \u001b[32m━━━━━━━━━━━━━━━━━━━━\u001b[0m\u001b[37m\u001b[0m \u001b[1m3s\u001b[0m 3ms/step - accuracy: 0.8842 - loss: 0.3411 - val_accuracy: 0.8794 - val_loss: 0.3525 - learning_rate: 0.0010\n",
            "Epoch 6/50\n",
            "\u001b[1m1131/1131\u001b[0m \u001b[32m━━━━━━━━━━━━━━━━━━━━\u001b[0m\u001b[37m\u001b[0m \u001b[1m7s\u001b[0m 4ms/step - accuracy: 0.8819 - loss: 0.3460 - val_accuracy: 0.8794 - val_loss: 0.3467 - learning_rate: 0.0010\n",
            "Epoch 7/50\n",
            "\u001b[1m1131/1131\u001b[0m \u001b[32m━━━━━━━━━━━━━━━━━━━━\u001b[0m\u001b[37m\u001b[0m \u001b[1m3s\u001b[0m 3ms/step - accuracy: 0.8832 - loss: 0.3430 - val_accuracy: 0.8794 - val_loss: 0.3459 - learning_rate: 0.0010\n",
            "Epoch 8/50\n",
            "\u001b[1m1131/1131\u001b[0m \u001b[32m━━━━━━━━━━━━━━━━━━━━\u001b[0m\u001b[37m\u001b[0m \u001b[1m3s\u001b[0m 3ms/step - accuracy: 0.8842 - loss: 0.3379 - val_accuracy: 0.8794 - val_loss: 0.3430 - learning_rate: 0.0010\n",
            "Epoch 9/50\n",
            "\u001b[1m1131/1131\u001b[0m \u001b[32m━━━━━━━━━━━━━━━━━━━━\u001b[0m\u001b[37m\u001b[0m \u001b[1m3s\u001b[0m 3ms/step - accuracy: 0.8858 - loss: 0.3355 - val_accuracy: 0.8794 - val_loss: 0.3446 - learning_rate: 0.0010\n",
            "Epoch 10/50\n",
            "\u001b[1m1131/1131\u001b[0m \u001b[32m━━━━━━━━━━━━━━━━━━━━\u001b[0m\u001b[37m\u001b[0m \u001b[1m7s\u001b[0m 4ms/step - accuracy: 0.8856 - loss: 0.3342 - val_accuracy: 0.8794 - val_loss: 0.3448 - learning_rate: 0.0010\n",
            "Epoch 11/50\n",
            "\u001b[1m1131/1131\u001b[0m \u001b[32m━━━━━━━━━━━━━━━━━━━━\u001b[0m\u001b[37m\u001b[0m \u001b[1m3s\u001b[0m 3ms/step - accuracy: 0.8818 - loss: 0.3430 - val_accuracy: 0.8794 - val_loss: 0.3431 - learning_rate: 0.0010\n",
            "Epoch 12/50\n",
            "\u001b[1m1131/1131\u001b[0m \u001b[32m━━━━━━━━━━━━━━━━━━━━\u001b[0m\u001b[37m\u001b[0m \u001b[1m3s\u001b[0m 3ms/step - accuracy: 0.8834 - loss: 0.3368 - val_accuracy: 0.8794 - val_loss: 0.3398 - learning_rate: 5.0000e-04\n",
            "Epoch 13/50\n",
            "\u001b[1m1131/1131\u001b[0m \u001b[32m━━━━━━━━━━━━━━━━━━━━\u001b[0m\u001b[37m\u001b[0m \u001b[1m7s\u001b[0m 4ms/step - accuracy: 0.8837 - loss: 0.3344 - val_accuracy: 0.8794 - val_loss: 0.3392 - learning_rate: 5.0000e-04\n",
            "Epoch 14/50\n",
            "\u001b[1m1131/1131\u001b[0m \u001b[32m━━━━━━━━━━━━━━━━━━━━\u001b[0m\u001b[37m\u001b[0m \u001b[1m4s\u001b[0m 3ms/step - accuracy: 0.8849 - loss: 0.3318 - val_accuracy: 0.8794 - val_loss: 0.3395 - learning_rate: 5.0000e-04\n",
            "Epoch 15/50\n",
            "\u001b[1m1131/1131\u001b[0m \u001b[32m━━━━━━━━━━━━━━━━━━━━\u001b[0m\u001b[37m\u001b[0m \u001b[1m3s\u001b[0m 3ms/step - accuracy: 0.8852 - loss: 0.3318 - val_accuracy: 0.8794 - val_loss: 0.3382 - learning_rate: 5.0000e-04\n",
            "Epoch 16/50\n",
            "\u001b[1m1131/1131\u001b[0m \u001b[32m━━━━━━━━━━━━━━━━━━━━\u001b[0m\u001b[37m\u001b[0m \u001b[1m5s\u001b[0m 3ms/step - accuracy: 0.8831 - loss: 0.3343 - val_accuracy: 0.8794 - val_loss: 0.3382 - learning_rate: 5.0000e-04\n",
            "Epoch 17/50\n",
            "\u001b[1m1131/1131\u001b[0m \u001b[32m━━━━━━━━━━━━━━━━━━━━\u001b[0m\u001b[37m\u001b[0m \u001b[1m8s\u001b[0m 6ms/step - accuracy: 0.8845 - loss: 0.3304 - val_accuracy: 0.8794 - val_loss: 0.3400 - learning_rate: 5.0000e-04\n",
            "Epoch 18/50\n",
            "\u001b[1m1131/1131\u001b[0m \u001b[32m━━━━━━━━━━━━━━━━━━━━\u001b[0m\u001b[37m\u001b[0m \u001b[1m7s\u001b[0m 3ms/step - accuracy: 0.8821 - loss: 0.3355 - val_accuracy: 0.8794 - val_loss: 0.3384 - learning_rate: 5.0000e-04\n",
            "Epoch 19/50\n",
            "\u001b[1m1131/1131\u001b[0m \u001b[32m━━━━━━━━━━━━━━━━━━━━\u001b[0m\u001b[37m\u001b[0m \u001b[1m5s\u001b[0m 4ms/step - accuracy: 0.8871 - loss: 0.3213 - val_accuracy: 0.8794 - val_loss: 0.3357 - learning_rate: 2.5000e-04\n",
            "Epoch 20/50\n",
            "\u001b[1m1131/1131\u001b[0m \u001b[32m━━━━━━━━━━━━━━━━━━━━\u001b[0m\u001b[37m\u001b[0m \u001b[1m3s\u001b[0m 3ms/step - accuracy: 0.8849 - loss: 0.3263 - val_accuracy: 0.8794 - val_loss: 0.3351 - learning_rate: 2.5000e-04\n",
            "Epoch 21/50\n",
            "\u001b[1m1131/1131\u001b[0m \u001b[32m━━━━━━━━━━━━━━━━━━━━\u001b[0m\u001b[37m\u001b[0m \u001b[1m3s\u001b[0m 3ms/step - accuracy: 0.8858 - loss: 0.3248 - val_accuracy: 0.8794 - val_loss: 0.3357 - learning_rate: 2.5000e-04\n",
            "Epoch 22/50\n",
            "\u001b[1m1131/1131\u001b[0m \u001b[32m━━━━━━━━━━━━━━━━━━━━\u001b[0m\u001b[37m\u001b[0m \u001b[1m3s\u001b[0m 3ms/step - accuracy: 0.8842 - loss: 0.3283 - val_accuracy: 0.8794 - val_loss: 0.3362 - learning_rate: 2.5000e-04\n",
            "Epoch 23/50\n",
            "\u001b[1m1131/1131\u001b[0m \u001b[32m━━━━━━━━━━━━━━━━━━━━\u001b[0m\u001b[37m\u001b[0m \u001b[1m6s\u001b[0m 4ms/step - accuracy: 0.8810 - loss: 0.3341 - val_accuracy: 0.8794 - val_loss: 0.3345 - learning_rate: 2.5000e-04\n",
            "Epoch 24/50\n",
            "\u001b[1m1131/1131\u001b[0m \u001b[32m━━━━━━━━━━━━━━━━━━━━\u001b[0m\u001b[37m\u001b[0m \u001b[1m4s\u001b[0m 3ms/step - accuracy: 0.8846 - loss: 0.3288 - val_accuracy: 0.8794 - val_loss: 0.3345 - learning_rate: 2.5000e-04\n",
            "Epoch 25/50\n",
            "\u001b[1m1131/1131\u001b[0m \u001b[32m━━━━━━━━━━━━━━━━━━━━\u001b[0m\u001b[37m\u001b[0m \u001b[1m3s\u001b[0m 3ms/step - accuracy: 0.8836 - loss: 0.3280 - val_accuracy: 0.8794 - val_loss: 0.3347 - learning_rate: 2.5000e-04\n",
            "Epoch 26/50\n",
            "\u001b[1m1131/1131\u001b[0m \u001b[32m━━━━━━━━━━━━━━━━━━━━\u001b[0m\u001b[37m\u001b[0m \u001b[1m4s\u001b[0m 3ms/step - accuracy: 0.8831 - loss: 0.3316 - val_accuracy: 0.8794 - val_loss: 0.3347 - learning_rate: 2.5000e-04\n",
            "Epoch 27/50\n",
            "\u001b[1m1131/1131\u001b[0m \u001b[32m━━━━━━━━━━━━━━━━━━━━\u001b[0m\u001b[37m\u001b[0m \u001b[1m5s\u001b[0m 3ms/step - accuracy: 0.8825 - loss: 0.3273 - val_accuracy: 0.8794 - val_loss: 0.3340 - learning_rate: 1.2500e-04\n",
            "Epoch 28/50\n",
            "\u001b[1m1131/1131\u001b[0m \u001b[32m━━━━━━━━━━━━━━━━━━━━\u001b[0m\u001b[37m\u001b[0m \u001b[1m5s\u001b[0m 3ms/step - accuracy: 0.8834 - loss: 0.3303 - val_accuracy: 0.8794 - val_loss: 0.3337 - learning_rate: 1.2500e-04\n",
            "Epoch 29/50\n",
            "\u001b[1m1131/1131\u001b[0m \u001b[32m━━━━━━━━━━━━━━━━━━━━\u001b[0m\u001b[37m\u001b[0m \u001b[1m6s\u001b[0m 4ms/step - accuracy: 0.8809 - loss: 0.3324 - val_accuracy: 0.8794 - val_loss: 0.3343 - learning_rate: 1.2500e-04\n",
            "Epoch 30/50\n",
            "\u001b[1m1131/1131\u001b[0m \u001b[32m━━━━━━━━━━━━━━━━━━━━\u001b[0m\u001b[37m\u001b[0m \u001b[1m4s\u001b[0m 3ms/step - accuracy: 0.8875 - loss: 0.3214 - val_accuracy: 0.8794 - val_loss: 0.3331 - learning_rate: 1.2500e-04\n",
            "Epoch 31/50\n",
            "\u001b[1m1131/1131\u001b[0m \u001b[32m━━━━━━━━━━━━━━━━━━━━\u001b[0m\u001b[37m\u001b[0m \u001b[1m3s\u001b[0m 3ms/step - accuracy: 0.8855 - loss: 0.3243 - val_accuracy: 0.8794 - val_loss: 0.3333 - learning_rate: 1.2500e-04\n",
            "Epoch 32/50\n",
            "\u001b[1m1131/1131\u001b[0m \u001b[32m━━━━━━━━━━━━━━━━━━━━\u001b[0m\u001b[37m\u001b[0m \u001b[1m3s\u001b[0m 3ms/step - accuracy: 0.8837 - loss: 0.3298 - val_accuracy: 0.8794 - val_loss: 0.3342 - learning_rate: 1.2500e-04\n",
            "Epoch 33/50\n",
            "\u001b[1m1131/1131\u001b[0m \u001b[32m━━━━━━━━━━━━━━━━━━━━\u001b[0m\u001b[37m\u001b[0m \u001b[1m6s\u001b[0m 4ms/step - accuracy: 0.8855 - loss: 0.3249 - val_accuracy: 0.8794 - val_loss: 0.3335 - learning_rate: 1.2500e-04\n",
            "Epoch 34/50\n",
            "\u001b[1m1131/1131\u001b[0m \u001b[32m━━━━━━━━━━━━━━━━━━━━\u001b[0m\u001b[37m\u001b[0m \u001b[1m3s\u001b[0m 3ms/step - accuracy: 0.8846 - loss: 0.3253 - val_accuracy: 0.8794 - val_loss: 0.3331 - learning_rate: 6.2500e-05\n",
            "Epoch 35/50\n",
            "\u001b[1m1131/1131\u001b[0m \u001b[32m━━━━━━━━━━━━━━━━━━━━\u001b[0m\u001b[37m\u001b[0m \u001b[1m6s\u001b[0m 3ms/step - accuracy: 0.8844 - loss: 0.3262 - val_accuracy: 0.8794 - val_loss: 0.3327 - learning_rate: 6.2500e-05\n",
            "Epoch 36/50\n",
            "\u001b[1m1131/1131\u001b[0m \u001b[32m━━━━━━━━━━━━━━━━━━━━\u001b[0m\u001b[37m\u001b[0m \u001b[1m7s\u001b[0m 4ms/step - accuracy: 0.8835 - loss: 0.3264 - val_accuracy: 0.8794 - val_loss: 0.3328 - learning_rate: 6.2500e-05\n",
            "Epoch 37/50\n",
            "\u001b[1m1131/1131\u001b[0m \u001b[32m━━━━━━━━━━━━━━━━━━━━\u001b[0m\u001b[37m\u001b[0m \u001b[1m4s\u001b[0m 3ms/step - accuracy: 0.8849 - loss: 0.3276 - val_accuracy: 0.8794 - val_loss: 0.3325 - learning_rate: 6.2500e-05\n",
            "Epoch 38/50\n",
            "\u001b[1m1131/1131\u001b[0m \u001b[32m━━━━━━━━━━━━━━━━━━━━\u001b[0m\u001b[37m\u001b[0m \u001b[1m5s\u001b[0m 3ms/step - accuracy: 0.8838 - loss: 0.3269 - val_accuracy: 0.8794 - val_loss: 0.3328 - learning_rate: 6.2500e-05\n",
            "Epoch 39/50\n",
            "\u001b[1m1131/1131\u001b[0m \u001b[32m━━━━━━━━━━━━━━━━━━━━\u001b[0m\u001b[37m\u001b[0m \u001b[1m6s\u001b[0m 4ms/step - accuracy: 0.8854 - loss: 0.3213 - val_accuracy: 0.8794 - val_loss: 0.3323 - learning_rate: 6.2500e-05\n",
            "Epoch 40/50\n",
            "\u001b[1m1131/1131\u001b[0m \u001b[32m━━━━━━━━━━━━━━━━━━━━\u001b[0m\u001b[37m\u001b[0m \u001b[1m4s\u001b[0m 3ms/step - accuracy: 0.8859 - loss: 0.3263 - val_accuracy: 0.8794 - val_loss: 0.3325 - learning_rate: 6.2500e-05\n",
            "Epoch 41/50\n",
            "\u001b[1m1131/1131\u001b[0m \u001b[32m━━━━━━━━━━━━━━━━━━━━\u001b[0m\u001b[37m\u001b[0m \u001b[1m5s\u001b[0m 3ms/step - accuracy: 0.8839 - loss: 0.3254 - val_accuracy: 0.8794 - val_loss: 0.3326 - learning_rate: 6.2500e-05\n",
            "Epoch 42/50\n",
            "\u001b[1m1131/1131\u001b[0m \u001b[32m━━━━━━━━━━━━━━━━━━━━\u001b[0m\u001b[37m\u001b[0m \u001b[1m5s\u001b[0m 5ms/step - accuracy: 0.8849 - loss: 0.3268 - val_accuracy: 0.8794 - val_loss: 0.3326 - learning_rate: 6.2500e-05\n",
            "Epoch 43/50\n",
            "\u001b[1m1131/1131\u001b[0m \u001b[32m━━━━━━━━━━━━━━━━━━━━\u001b[0m\u001b[37m\u001b[0m \u001b[1m9s\u001b[0m 4ms/step - accuracy: 0.8858 - loss: 0.3221 - val_accuracy: 0.8794 - val_loss: 0.3324 - learning_rate: 3.1250e-05\n",
            "Epoch 44/50\n",
            "\u001b[1m1131/1131\u001b[0m \u001b[32m━━━━━━━━━━━━━━━━━━━━\u001b[0m\u001b[37m\u001b[0m \u001b[1m6s\u001b[0m 5ms/step - accuracy: 0.8848 - loss: 0.3228 - val_accuracy: 0.8794 - val_loss: 0.3324 - learning_rate: 3.1250e-05\n",
            "\u001b[1m283/283\u001b[0m \u001b[32m━━━━━━━━━━━━━━━━━━━━\u001b[0m\u001b[37m\u001b[0m \u001b[1m0s\u001b[0m 2ms/step - accuracy: 0.8770 - loss: 0.3411\n",
            "Neural Network Accuracy on Test Data: 0.8793541789054871\n",
            "Neural Network Loss on Test Data: 0.33231601119041443\n",
            "\u001b[1m283/283\u001b[0m \u001b[32m━━━━━━━━━━━━━━━━━━━━\u001b[0m\u001b[37m\u001b[0m \u001b[1m1s\u001b[0m 2ms/step\n",
            "Precision: 0.44\n",
            "Recall: 0.43354720439963335\n",
            "F1 Score 0.43674976915974145\n",
            "AUC-ROC: 0.772566309866532\n"
          ]
        },
        {
          "output_type": "display_data",
          "data": {
            "text/plain": [
              "<Figure size 1200x500 with 1 Axes>"
            ],
            "image/png": "[encoded data removed]"
          },
          "metadata": {}
        },
        {
          "output_type": "display_data",
          "data": {
            "text/plain": [
              "<Figure size 640x480 with 1 Axes>"
            ],
            "image/png": "[encoded data removed]"
          },
          "metadata": {}
        }
      ]
    },
    {
      "cell_type": "code",
      "source": [
        "# Get predictions\n",
        "y_pred_probabilities = FF_NN_Model.predict(X_test)\n",
        "\n",
        "# first 10 predictions\n",
        "print(\"Predicted probabilities for y:\")\n",
        "print(y_pred_probabilities[:10])"
      ],
      "metadata": {
        "colab": {
          "base_uri": "https://localhost:8080/"
        },
        "id": "w2o_pq8JWfWu",
        "outputId": "52372ca4-6317-406b-f67c-4f1cbd624910"
      },
      "execution_count": 158,
      "outputs": [
        {
          "output_type": "stream",
          "name": "stdout",
          "text": [
            "\u001b[1m283/283\u001b[0m \u001b[32m━━━━━━━━━━━━━━━━━━━━\u001b[0m\u001b[37m\u001b[0m \u001b[1m1s\u001b[0m 2ms/step\n",
            "Predicted probabilities for y:\n",
            "[[0.0435775 ]\n",
            " [0.07287297]\n",
            " [0.13980033]\n",
            " [0.3000561 ]\n",
            " [0.11051162]\n",
            " [0.1375074 ]\n",
            " [0.14800848]\n",
            " [0.1256463 ]\n",
            " [0.08984493]\n",
            " [0.04474803]]\n"
          ]
        }
      ]
    },
    {
      "cell_type": "code",
      "source": [
        "# Save the Random Forest Model\n",
        "joblib.dump(ranfor_model, 'random_forest_model.pkl')\n",
        "print(\"Random Forest model saved\")\n",
        "\n",
        "# Save the Neural Network Model\n",
        "FF_NN_Model.save('neural_network_model.h5')\n",
        "print(\"Neural Network model saved\")\n",
        "\n",
        "# Summary Comparison of Models\n",
        "print(\"Summary Comparison:\")\n",
        "print(f\"Random Forest Accuracy: {accuracy_score(y_test, y_pred_rf)}\")\n",
        "print(f\"Neural Network Accuracy: {FF_NN_accuracy}\")"
      ],
      "metadata": {
        "id": "U8rv8a1By_oT",
        "colab": {
          "base_uri": "https://localhost:8080/"
        },
        "outputId": "d9495fa9-f776-4818-ff06-2261847389e1"
      },
      "execution_count": 159,
      "outputs": [
        {
          "output_type": "stream",
          "name": "stderr",
          "text": [
            "WARNING:absl:You are saving your model as an HDF5 file via `model.save()` or `keras.saving.save_model(model)`. This file format is considered legacy. We recommend using instead the native Keras format, e.g. `model.save('my_model.keras')` or `keras.saving.save_model(model, 'my_model.keras')`. \n"
          ]
        },
        {
          "output_type": "stream",
          "name": "stdout",
          "text": [
            "Random Forest model saved\n",
            "Neural Network model saved\n",
            "Summary Comparison:\n",
            "Random Forest Accuracy: 0.8929558774742895\n",
            "Neural Network Accuracy: 0.8807917833328247\n"
          ]
        }
      ]
    }
  ]
}